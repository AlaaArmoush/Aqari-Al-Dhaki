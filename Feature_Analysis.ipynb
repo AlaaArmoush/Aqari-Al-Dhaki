{
 "cells": [
  {
   "cell_type": "markdown",
   "id": "8844b382-47f6-41a3-afd1-a784efae5f2c",
   "metadata": {},
   "source": [
    "## Objective\n",
    "This notebook performs comprehensive feature analysis to understand our dataset's characteristics and select the most relevant features for our **apartment price prediction model**. We build upon the initial data exploration to make data-driven decisions about feature transformations, selection, and augmentation strategies.\n"
   ]
  },
  {
   "cell_type": "code",
   "execution_count": 70,
   "id": "53d86a7c-72b5-4499-9312-508e98ac7dd9",
   "metadata": {},
   "outputs": [],
   "source": [
    "import pandas as pd\n",
    "import numpy as np\n",
    "import matplotlib.pyplot as plt\n",
    "import seaborn as sns\n",
    "import arabic_reshaper\n",
    "from bidi.algorithm import get_display\n",
    "from scipy import stats\n",
    "\n",
    "plt.rcParams['font.family'] = ['Arial Unicode MS', 'Tahoma', 'Arial', 'sans-serif']\n"
   ]
  },
  {
   "cell_type": "code",
   "execution_count": 71,
   "id": "e841659f-7528-46b8-8e72-8d451a47e667",
   "metadata": {},
   "outputs": [
    {
     "data": {
      "text/html": [
       "<div>\n",
       "<style scoped>\n",
       "    .dataframe tbody tr th:only-of-type {\n",
       "        vertical-align: middle;\n",
       "    }\n",
       "\n",
       "    .dataframe tbody tr th {\n",
       "        vertical-align: top;\n",
       "    }\n",
       "\n",
       "    .dataframe thead th {\n",
       "        text-align: right;\n",
       "    }\n",
       "</style>\n",
       "<table border=\"1\" class=\"dataframe\">\n",
       "  <thead>\n",
       "    <tr style=\"text-align: right;\">\n",
       "      <th></th>\n",
       "      <th>السعر بالشيكل</th>\n",
       "      <th>المدينة</th>\n",
       "      <th>الحي / المنطقة</th>\n",
       "      <th>عدد الغرف</th>\n",
       "      <th>عدد الحمامات</th>\n",
       "      <th>مفروشة</th>\n",
       "      <th>مساحة البناء</th>\n",
       "      <th>الطابق</th>\n",
       "      <th>عمر البناء</th>\n",
       "      <th>العقار مرهون</th>\n",
       "      <th>طريقة الدفع</th>\n",
       "      <th>مصعد</th>\n",
       "      <th>موقف سيارات</th>\n",
       "    </tr>\n",
       "  </thead>\n",
       "  <tbody>\n",
       "    <tr>\n",
       "      <th>0</th>\n",
       "      <td>397,476</td>\n",
       "      <td>نابلس</td>\n",
       "      <td>المخفية</td>\n",
       "      <td>3</td>\n",
       "      <td>2</td>\n",
       "      <td>0</td>\n",
       "      <td>138</td>\n",
       "      <td>2</td>\n",
       "      <td>2</td>\n",
       "      <td>F</td>\n",
       "      <td>0</td>\n",
       "      <td>T</td>\n",
       "      <td>T</td>\n",
       "    </tr>\n",
       "    <tr>\n",
       "      <th>1</th>\n",
       "      <td>400,000</td>\n",
       "      <td>رام الله والبيرة</td>\n",
       "      <td>الطيرة</td>\n",
       "      <td>3</td>\n",
       "      <td>2</td>\n",
       "      <td>0</td>\n",
       "      <td>105</td>\n",
       "      <td>3</td>\n",
       "      <td>0</td>\n",
       "      <td>F</td>\n",
       "      <td>0</td>\n",
       "      <td>F</td>\n",
       "      <td>F</td>\n",
       "    </tr>\n",
       "    <tr>\n",
       "      <th>2</th>\n",
       "      <td>198,738</td>\n",
       "      <td>جنين</td>\n",
       "      <td>الجابريات</td>\n",
       "      <td>3</td>\n",
       "      <td>2</td>\n",
       "      <td>0</td>\n",
       "      <td>165</td>\n",
       "      <td>1</td>\n",
       "      <td>1</td>\n",
       "      <td>F</td>\n",
       "      <td>2</td>\n",
       "      <td>F</td>\n",
       "      <td>F</td>\n",
       "    </tr>\n",
       "    <tr>\n",
       "      <th>3</th>\n",
       "      <td>1,780,608</td>\n",
       "      <td>بيت لحم</td>\n",
       "      <td>بيت ساحور</td>\n",
       "      <td>3</td>\n",
       "      <td>3</td>\n",
       "      <td>2</td>\n",
       "      <td>300</td>\n",
       "      <td>R</td>\n",
       "      <td>3</td>\n",
       "      <td>F</td>\n",
       "      <td>0</td>\n",
       "      <td>T</td>\n",
       "      <td>T</td>\n",
       "    </tr>\n",
       "    <tr>\n",
       "      <th>4</th>\n",
       "      <td>530,000</td>\n",
       "      <td>رام الله والبيرة</td>\n",
       "      <td>الطيرة</td>\n",
       "      <td>3</td>\n",
       "      <td>3</td>\n",
       "      <td>0</td>\n",
       "      <td>185</td>\n",
       "      <td>2</td>\n",
       "      <td>3</td>\n",
       "      <td>F</td>\n",
       "      <td>0</td>\n",
       "      <td>T</td>\n",
       "      <td>T</td>\n",
       "    </tr>\n",
       "    <tr>\n",
       "      <th>5</th>\n",
       "      <td>172,588</td>\n",
       "      <td>طولكرم</td>\n",
       "      <td>شويكة</td>\n",
       "      <td>3</td>\n",
       "      <td>2</td>\n",
       "      <td>0</td>\n",
       "      <td>125</td>\n",
       "      <td>3</td>\n",
       "      <td>2</td>\n",
       "      <td>F</td>\n",
       "      <td>2</td>\n",
       "      <td>T</td>\n",
       "      <td>T</td>\n",
       "    </tr>\n",
       "    <tr>\n",
       "      <th>6</th>\n",
       "      <td>235,348</td>\n",
       "      <td>طولكرم</td>\n",
       "      <td>الحي الشرقي</td>\n",
       "      <td>3</td>\n",
       "      <td>1</td>\n",
       "      <td>0</td>\n",
       "      <td>120</td>\n",
       "      <td>1</td>\n",
       "      <td>4</td>\n",
       "      <td>F</td>\n",
       "      <td>2</td>\n",
       "      <td>F</td>\n",
       "      <td>F</td>\n",
       "    </tr>\n",
       "    <tr>\n",
       "      <th>7</th>\n",
       "      <td>310,000</td>\n",
       "      <td>نابلس</td>\n",
       "      <td>الجبل الشمالي</td>\n",
       "      <td>3</td>\n",
       "      <td>2</td>\n",
       "      <td>0</td>\n",
       "      <td>155</td>\n",
       "      <td>1</td>\n",
       "      <td>2</td>\n",
       "      <td>F</td>\n",
       "      <td>0</td>\n",
       "      <td>F</td>\n",
       "      <td>F</td>\n",
       "    </tr>\n",
       "    <tr>\n",
       "      <th>8</th>\n",
       "      <td>156,898</td>\n",
       "      <td>نابلس</td>\n",
       "      <td>ش. عمان</td>\n",
       "      <td>2</td>\n",
       "      <td>1</td>\n",
       "      <td>0</td>\n",
       "      <td>120</td>\n",
       "      <td>P</td>\n",
       "      <td>4</td>\n",
       "      <td>F</td>\n",
       "      <td>2</td>\n",
       "      <td>F</td>\n",
       "      <td>F</td>\n",
       "    </tr>\n",
       "    <tr>\n",
       "      <th>9</th>\n",
       "      <td>550,000</td>\n",
       "      <td>القدس</td>\n",
       "      <td>كفر عقب</td>\n",
       "      <td>3</td>\n",
       "      <td>3</td>\n",
       "      <td>0</td>\n",
       "      <td>125</td>\n",
       "      <td>10</td>\n",
       "      <td>1</td>\n",
       "      <td>F</td>\n",
       "      <td>2</td>\n",
       "      <td>T</td>\n",
       "      <td>T</td>\n",
       "    </tr>\n",
       "  </tbody>\n",
       "</table>\n",
       "</div>"
      ],
      "text/plain": [
       "  السعر بالشيكل           المدينة الحي / المنطقة  عدد الغرف  عدد الحمامات  \\\n",
       "0       397,476             نابلس        المخفية          3             2   \n",
       "1       400,000  رام الله والبيرة         الطيرة          3             2   \n",
       "2       198,738              جنين      الجابريات          3             2   \n",
       "3     1,780,608           بيت لحم      بيت ساحور          3             3   \n",
       "4       530,000  رام الله والبيرة         الطيرة          3             3   \n",
       "5       172,588            طولكرم          شويكة          3             2   \n",
       "6       235,348            طولكرم    الحي الشرقي          3             1   \n",
       "7       310,000             نابلس  الجبل الشمالي          3             2   \n",
       "8       156,898             نابلس        ش. عمان          2             1   \n",
       "9       550,000             القدس        كفر عقب          3             3   \n",
       "\n",
       "   مفروشة  مساحة البناء الطابق  عمر البناء العقار مرهون  طريقة الدفع مصعد  \\\n",
       "0       0           138      2           2            F            0    T   \n",
       "1       0           105      3           0            F            0    F   \n",
       "2       0           165      1           1            F            2    F   \n",
       "3       2           300      R           3            F            0    T   \n",
       "4       0           185      2           3            F            0    T   \n",
       "5       0           125      3           2            F            2    T   \n",
       "6       0           120      1           4            F            2    F   \n",
       "7       0           155      1           2            F            0    F   \n",
       "8       0           120      P           4            F            2    F   \n",
       "9       0           125     10           1            F            2    T   \n",
       "\n",
       "  موقف سيارات  \n",
       "0           T  \n",
       "1           F  \n",
       "2           F  \n",
       "3           T  \n",
       "4           T  \n",
       "5           T  \n",
       "6           F  \n",
       "7           F  \n",
       "8           F  \n",
       "9           T  "
      ]
     },
     "execution_count": 71,
     "metadata": {},
     "output_type": "execute_result"
    }
   ],
   "source": [
    "df = pd.read_csv(\"Apartments.csv\", encoding = 'utf-8-sig')\n",
    "df.head(10)"
   ]
  },
  {
   "cell_type": "code",
   "execution_count": 72,
   "id": "2cd9045e-a79b-443b-a4c0-750f3fe85c11",
   "metadata": {},
   "outputs": [
    {
     "name": "stdout",
     "output_type": "stream",
     "text": [
      "<class 'pandas.core.frame.DataFrame'>\n",
      "RangeIndex: 623 entries, 0 to 622\n",
      "Data columns (total 13 columns):\n",
      " #   Column          Non-Null Count  Dtype \n",
      "---  ------          --------------  ----- \n",
      " 0   السعر بالشيكل   623 non-null    object\n",
      " 1   المدينة         623 non-null    object\n",
      " 2   الحي / المنطقة  623 non-null    object\n",
      " 3   عدد الغرف       623 non-null    int64 \n",
      " 4   عدد الحمامات    623 non-null    int64 \n",
      " 5   مفروشة          623 non-null    int64 \n",
      " 6   مساحة البناء    623 non-null    int64 \n",
      " 7   الطابق          623 non-null    object\n",
      " 8   عمر البناء      623 non-null    int64 \n",
      " 9   العقار مرهون    623 non-null    object\n",
      " 10  طريقة الدفع     623 non-null    int64 \n",
      " 11  مصعد            623 non-null    object\n",
      " 12  موقف سيارات     623 non-null    object\n",
      "dtypes: int64(6), object(7)\n",
      "memory usage: 63.4+ KB\n"
     ]
    }
   ],
   "source": [
    "df.info()"
   ]
  },
  {
   "cell_type": "code",
   "execution_count": 73,
   "id": "7cd806cf-fc4b-4f91-87d0-2782fe441681",
   "metadata": {},
   "outputs": [
    {
     "data": {
      "text/html": [
       "<div>\n",
       "<style scoped>\n",
       "    .dataframe tbody tr th:only-of-type {\n",
       "        vertical-align: middle;\n",
       "    }\n",
       "\n",
       "    .dataframe tbody tr th {\n",
       "        vertical-align: top;\n",
       "    }\n",
       "\n",
       "    .dataframe thead th {\n",
       "        text-align: right;\n",
       "    }\n",
       "</style>\n",
       "<table border=\"1\" class=\"dataframe\">\n",
       "  <thead>\n",
       "    <tr style=\"text-align: right;\">\n",
       "      <th></th>\n",
       "      <th>السعر بالشيكل</th>\n",
       "      <th>المدينة</th>\n",
       "      <th>الحي / المنطقة</th>\n",
       "      <th>عدد الغرف</th>\n",
       "      <th>عدد الحمامات</th>\n",
       "      <th>مفروشة</th>\n",
       "      <th>مساحة البناء</th>\n",
       "      <th>الطابق</th>\n",
       "      <th>عمر البناء</th>\n",
       "      <th>العقار مرهون</th>\n",
       "      <th>طريقة الدفع</th>\n",
       "      <th>مصعد</th>\n",
       "      <th>موقف سيارات</th>\n",
       "    </tr>\n",
       "  </thead>\n",
       "  <tbody>\n",
       "    <tr>\n",
       "      <th>0</th>\n",
       "      <td>397476</td>\n",
       "      <td>نابلس</td>\n",
       "      <td>المخفية</td>\n",
       "      <td>3</td>\n",
       "      <td>2</td>\n",
       "      <td>0</td>\n",
       "      <td>138</td>\n",
       "      <td>2</td>\n",
       "      <td>2</td>\n",
       "      <td>F</td>\n",
       "      <td>0</td>\n",
       "      <td>T</td>\n",
       "      <td>T</td>\n",
       "    </tr>\n",
       "  </tbody>\n",
       "</table>\n",
       "</div>"
      ],
      "text/plain": [
       "   السعر بالشيكل المدينة الحي / المنطقة  عدد الغرف  عدد الحمامات  مفروشة  \\\n",
       "0         397476   نابلس        المخفية          3             2       0   \n",
       "\n",
       "   مساحة البناء الطابق  عمر البناء العقار مرهون  طريقة الدفع مصعد موقف سيارات  \n",
       "0           138      2           2            F            0    T           T  "
      ]
     },
     "execution_count": 73,
     "metadata": {},
     "output_type": "execute_result"
    }
   ],
   "source": [
    "# convert price to integer values\n",
    "df['السعر بالشيكل'] = df[\"السعر بالشيكل\"].astype(str).str.replace('\"', '', regex=False).str.replace(\",\", \"\", regex=False)\n",
    "df['السعر بالشيكل'] = pd.to_numeric(df['السعر بالشيكل'])\n",
    "df.head(1)"
   ]
  },
  {
   "cell_type": "code",
   "execution_count": 74,
   "id": "29e7f797-821c-4f20-a3f4-d0b10cc71fb5",
   "metadata": {},
   "outputs": [
    {
     "data": {
      "text/html": [
       "<div>\n",
       "<style scoped>\n",
       "    .dataframe tbody tr th:only-of-type {\n",
       "        vertical-align: middle;\n",
       "    }\n",
       "\n",
       "    .dataframe tbody tr th {\n",
       "        vertical-align: top;\n",
       "    }\n",
       "\n",
       "    .dataframe thead th {\n",
       "        text-align: right;\n",
       "    }\n",
       "</style>\n",
       "<table border=\"1\" class=\"dataframe\">\n",
       "  <thead>\n",
       "    <tr style=\"text-align: right;\">\n",
       "      <th></th>\n",
       "      <th>السعر بالشيكل</th>\n",
       "      <th>المدينة</th>\n",
       "      <th>الحي / المنطقة</th>\n",
       "      <th>عدد الغرف</th>\n",
       "      <th>عدد الحمامات</th>\n",
       "      <th>مفروشة</th>\n",
       "      <th>مساحة البناء</th>\n",
       "      <th>الطابق</th>\n",
       "      <th>عمر البناء</th>\n",
       "      <th>العقار مرهون</th>\n",
       "      <th>طريقة الدفع</th>\n",
       "      <th>مصعد</th>\n",
       "      <th>موقف سيارات</th>\n",
       "    </tr>\n",
       "  </thead>\n",
       "  <tbody>\n",
       "    <tr>\n",
       "      <th>0</th>\n",
       "      <td>397476</td>\n",
       "      <td>نابلس</td>\n",
       "      <td>المخفية</td>\n",
       "      <td>3</td>\n",
       "      <td>2</td>\n",
       "      <td>0</td>\n",
       "      <td>138</td>\n",
       "      <td>2</td>\n",
       "      <td>2</td>\n",
       "      <td>False</td>\n",
       "      <td>0</td>\n",
       "      <td>True</td>\n",
       "      <td>True</td>\n",
       "    </tr>\n",
       "  </tbody>\n",
       "</table>\n",
       "</div>"
      ],
      "text/plain": [
       "   السعر بالشيكل المدينة الحي / المنطقة  عدد الغرف  عدد الحمامات  مفروشة  \\\n",
       "0         397476   نابلس        المخفية          3             2       0   \n",
       "\n",
       "   مساحة البناء الطابق  عمر البناء  العقار مرهون  طريقة الدفع  مصعد  \\\n",
       "0           138      2           2         False            0  True   \n",
       "\n",
       "   موقف سيارات  \n",
       "0         True  "
      ]
     },
     "execution_count": 74,
     "metadata": {},
     "output_type": "execute_result"
    }
   ],
   "source": [
    "# Map T/F to True/False boolean values\n",
    "bool_map = {'T': True, 'F': False}\n",
    "pd.set_option('future.no_silent_downcasting', True)\n",
    "for col in [\"العقار مرهون\", \"مصعد\", \"موقف سيارات\"]:\n",
    "    df[col] = df[col].replace({'T': True, 'F': False}).astype(bool)\n",
    "df.head(1)"
   ]
  },
  {
   "cell_type": "code",
   "execution_count": 75,
   "id": "9f98c8a4-c9cc-4241-bcb8-3174a1e4496f",
   "metadata": {},
   "outputs": [
    {
     "name": "stdout",
     "output_type": "stream",
     "text": [
      "<class 'pandas.core.frame.DataFrame'>\n",
      "RangeIndex: 623 entries, 0 to 622\n",
      "Data columns (total 13 columns):\n",
      " #   Column          Non-Null Count  Dtype \n",
      "---  ------          --------------  ----- \n",
      " 0   السعر بالشيكل   623 non-null    int64 \n",
      " 1   المدينة         623 non-null    object\n",
      " 2   الحي / المنطقة  623 non-null    object\n",
      " 3   عدد الغرف       623 non-null    int64 \n",
      " 4   عدد الحمامات    623 non-null    int64 \n",
      " 5   مفروشة          623 non-null    int64 \n",
      " 6   مساحة البناء    623 non-null    int64 \n",
      " 7   الطابق          623 non-null    object\n",
      " 8   عمر البناء      623 non-null    int64 \n",
      " 9   العقار مرهون    623 non-null    bool  \n",
      " 10  طريقة الدفع     623 non-null    int64 \n",
      " 11  مصعد            623 non-null    bool  \n",
      " 12  موقف سيارات     623 non-null    bool  \n",
      "dtypes: bool(3), int64(7), object(3)\n",
      "memory usage: 50.6+ KB\n"
     ]
    }
   ],
   "source": [
    "df.info()"
   ]
  },
  {
   "cell_type": "code",
   "execution_count": 76,
   "id": "ef2cced3-f1c3-4e40-81d1-99cb384ea071",
   "metadata": {},
   "outputs": [],
   "source": [
    "def process_arabic_text(text):\n",
    "    if isinstance(text, str):\n",
    "        reshaped_text = arabic_reshaper.reshape(text)\n",
    "        return get_display(reshaped_text)\n",
    "    return text"
   ]
  },
  {
   "cell_type": "markdown",
   "id": "71580f8b-c9db-4abb-9430-ec4713d5c45c",
   "metadata": {},
   "source": [
    "### Detecting outliers in price and area"
   ]
  },
  {
   "cell_type": "code",
   "execution_count": 77,
   "id": "088ae0ea-e0b5-4c1f-9e3b-849d2c534bba",
   "metadata": {},
   "outputs": [
    {
     "name": "stdout",
     "output_type": "stream",
     "text": [
      "\n",
      "Z-SCORE OUTLIER DETECTION\n",
      "Threshold: |z| > 3\n",
      "Outliers found: 2\n",
      "Percentage of dataset: 0.32%\n",
      "\n",
      "Top 10 high price outliers:\n",
      "              المدينة الحي / المنطقة  مساحة البناء  السعر بالشيكل  عدد الغرف\n",
      "320  رام الله والبيرة        بيتونيا           160       37095996          3\n",
      "345             القدس           حزما           142       10000000          3\n"
     ]
    }
   ],
   "source": [
    "# Price\n",
    "prices = df['السعر بالشيكل']\n",
    "z_scores = np.abs(stats.zscore(prices))\n",
    "outlier_mask = z_scores > 3\n",
    "outlier_count = outlier_mask.sum()\n",
    "\n",
    "print(\"\\nZ-SCORE OUTLIER DETECTION\")\n",
    "print(f\"Threshold: |z| > 3\")\n",
    "print(\"Outliers found:\", outlier_count)\n",
    "print(\"Percentage of dataset: {:.2f}%\".format(outlier_count / len(df) * 100))\n",
    "\n",
    "print(\"\\nTop 10 high price outliers:\")\n",
    "print(df[outlier_mask].sort_values('السعر بالشيكل', ascending=False)\n",
    "      [[\"المدينة\", \"الحي / المنطقة\", \"مساحة البناء\", 'السعر بالشيكل', \"عدد الغرف\"]]\n",
    "      .head(10))\n",
    "#drop outliers\n",
    "df = df[~outlier_mask]"
   ]
  },
  {
   "cell_type": "code",
   "execution_count": 78,
   "id": "a71b95dd-ebbc-4eb5-a56d-b22f7545f655",
   "metadata": {},
   "outputs": [
    {
     "name": "stdout",
     "output_type": "stream",
     "text": [
      "\n",
      "Z-SCORE OUTLIER DETECTION — AREA\n",
      "Threshold: |z| > 3\n",
      "Outliers found: 6\n",
      "Percentage of dataset: 0.97%\n",
      "\n",
      "Top 10 large area outliers:\n",
      "              المدينة الحي / المنطقة  مساحة البناء  عدد الغرف  السعر بالشيكل\n",
      "423  رام الله والبيرة         الطيرة          1802          3         556440\n",
      "417  رام الله والبيرة         الطيرة          1240          3        5007960\n",
      "318  رام الله والبيرة        بير زيت          1000          3         593536\n",
      "164  رام الله والبيرة       عين عريك           750          3         300000\n",
      "446  رام الله والبيرة        بيتونيا           600          6         650000\n",
      "356  رام الله والبيرة        بير زيت           500          5        1409648\n"
     ]
    }
   ],
   "source": [
    "# Area\n",
    "areas = df[\"مساحة البناء\"]\n",
    "z_scores_area = np.abs(stats.zscore(areas))\n",
    "outlier_mask_area = z_scores_area > 3\n",
    "outlier_count_area = outlier_mask_area.sum()\n",
    "\n",
    "print(\"\\nZ-SCORE OUTLIER DETECTION — AREA\")\n",
    "print(f\"Threshold: |z| > 3\")\n",
    "print(\"Outliers found:\", outlier_count_area)\n",
    "print(\"Percentage of dataset: {:.2f}%\".format(outlier_count_area / len(df) * 100))\n",
    "\n",
    "print(\"\\nTop 10 large area outliers:\")\n",
    "print(df[outlier_mask_area].sort_values(\"مساحة البناء\", ascending=False)\n",
    "      [[\"المدينة\", \"الحي / المنطقة\", \"مساحة البناء\", \"عدد الغرف\", \"السعر بالشيكل\"]]\n",
    "      .head(10))\n",
    "#drop outliers\n",
    "df = df[~outlier_mask_area]"
   ]
  },
  {
   "cell_type": "code",
   "execution_count": 79,
   "id": "94475143-0790-48b5-b472-2995feda4c45",
   "metadata": {
    "scrolled": true
   },
   "outputs": [
    {
     "name": "stdout",
     "output_type": "stream",
     "text": [
      "<class 'pandas.core.frame.DataFrame'>\n",
      "Index: 615 entries, 0 to 622\n",
      "Data columns (total 13 columns):\n",
      " #   Column          Non-Null Count  Dtype \n",
      "---  ------          --------------  ----- \n",
      " 0   السعر بالشيكل   615 non-null    int64 \n",
      " 1   المدينة         615 non-null    object\n",
      " 2   الحي / المنطقة  615 non-null    object\n",
      " 3   عدد الغرف       615 non-null    int64 \n",
      " 4   عدد الحمامات    615 non-null    int64 \n",
      " 5   مفروشة          615 non-null    int64 \n",
      " 6   مساحة البناء    615 non-null    int64 \n",
      " 7   الطابق          615 non-null    object\n",
      " 8   عمر البناء      615 non-null    int64 \n",
      " 9   العقار مرهون    615 non-null    bool  \n",
      " 10  طريقة الدفع     615 non-null    int64 \n",
      " 11  مصعد            615 non-null    bool  \n",
      " 12  موقف سيارات     615 non-null    bool  \n",
      "dtypes: bool(3), int64(7), object(3)\n",
      "memory usage: 54.7+ KB\n"
     ]
    }
   ],
   "source": [
    "df.info()"
   ]
  },
  {
   "cell_type": "markdown",
   "id": "8eb0b45f-9e48-4e8a-b03c-cdbc17bfacbd",
   "metadata": {},
   "source": [
    "### Skewness check"
   ]
  },
  {
   "cell_type": "code",
   "execution_count": 80,
   "id": "b001050b-02cf-4300-9286-2cebe298ca4a",
   "metadata": {},
   "outputs": [
    {
     "name": "stdout",
     "output_type": "stream",
     "text": [
      "📊 Skewness for Numeric Features:\n",
      "مساحة البناء: 1.44\n"
     ]
    },
    {
     "data": {
      "image/png": "[encoded data removed]",
      "text/plain": [
       "<Figure size 600x400 with 1 Axes>"
      ]
     },
     "metadata": {},
     "output_type": "display_data"
    },
    {
     "name": "stdout",
     "output_type": "stream",
     "text": [
      "السعر بالشيكل: 5.49\n"
     ]
    },
    {
     "data": {
      "image/png": "[encoded data removed]",
      "text/plain": [
       "<Figure size 600x400 with 1 Axes>"
      ]
     },
     "metadata": {},
     "output_type": "display_data"
    }
   ],
   "source": [
    "# Select numeric columns\n",
    "target_cols = [\"مساحة البناء\", \"السعر بالشيكل\"]\n",
    "\n",
    "print(\"📊 Skewness for Numeric Features:\")\n",
    "for col in target_cols:\n",
    "    skew_val = df[col].skew()\n",
    "    print(f\"{col}: {skew_val:.2f}\")\n",
    "    \n",
    "    # Plot histogram + KDE\n",
    "    plt.figure(figsize=(6, 4))\n",
    "    sns.histplot(df[col], kde=True, bins=30)\n",
    "    plt.title(process_arabic_text(f\"توزيع {col} (Skewness: {skew_val:.2f})\"))\n",
    "    plt.xlabel(process_arabic_text(col))\n",
    "    plt.ylabel(process_arabic_text(\"العدد\"))\n",
    "    plt.show()"
   ]
  },
  {
   "cell_type": "markdown",
   "id": "562ba1e8-7919-4744-bfab-8ce2b961b9c4",
   "metadata": {},
   "source": [
    "We observe that the price distribution is highly right-skewed, so we will apply a power transformation to it."
   ]
  },
  {
   "cell_type": "code",
   "execution_count": 81,
   "id": "f6f8750d-96bc-481a-9615-283b0bc116cd",
   "metadata": {},
   "outputs": [
    {
     "data": {
      "image/png": "[encoded data removed]",
      "text/plain": [
       "<Figure size 1200x500 with 2 Axes>"
      ]
     },
     "metadata": {},
     "output_type": "display_data"
    },
    {
     "name": "stdout",
     "output_type": "stream",
     "text": [
      "==================================================\n",
      "SKEWNESS COMPARISON:\n",
      "Original skewness: 5.49\n",
      "Transformed skewness: 0.24\n",
      "Improvement: 5.25\n",
      "==================================================\n"
     ]
    }
   ],
   "source": [
    "original_skew = df[\"السعر بالشيكل\"].skew()\n",
    "plt.figure(figsize=(12, 5))\n",
    "\n",
    "plt.subplot(1, 2, 1)\n",
    "sns.histplot(df[\"السعر بالشيكل\"], kde=True, bins=30)\n",
    "plt.title(process_arabic_text(\"قبل التحويل\"))\n",
    "plt.xlabel(process_arabic_text(\"السعر بالشيكل\"))\n",
    "plt.ylabel(process_arabic_text(\"التكرار\"))\n",
    "\n",
    "transformed_price = df[\"السعر بالشيكل\"] ** 0.4\n",
    "plt.subplot(1, 2, 2)\n",
    "sns.histplot(transformed_price, kde=True, bins=30)\n",
    "plt.title(process_arabic_text(\"بعد التحويل (x^0.4)\"))\n",
    "plt.xlabel(process_arabic_text(\"السعر المحول\"))\n",
    "plt.ylabel(process_arabic_text(\"التكرار\"))\n",
    "\n",
    "plt.tight_layout()\n",
    "plt.show()\n",
    "\n",
    "print(\"=\"*50)\n",
    "print(\"SKEWNESS COMPARISON:\")\n",
    "print(f\"Original skewness: {original_skew:.2f}\")\n",
    "print(f\"Transformed skewness: {transformed_price.skew():.2f}\")\n",
    "print(f\"Improvement: {original_skew - transformed_price.skew():.2f}\")\n",
    "print(\"=\"*50)\n",
    "\n",
    "df[\"السعر بالشيكل\"] = df[\"السعر بالشيكل\"] ** 0.4"
   ]
  },
  {
   "cell_type": "code",
   "execution_count": null,
   "id": "e940b3d5-7117-4211-b328-bc95d06e03e0",
   "metadata": {},
   "outputs": [],
   "source": []
  }
 ],
 "metadata": {
  "kernelspec": {
   "display_name": "Python 3 (ipykernel)",
   "language": "python",
   "name": "python3"
  },
  "language_info": {
   "codemirror_mode": {
    "name": "ipython",
    "version": 3
   },
   "file_extension": ".py",
   "mimetype": "text/x-python",
   "name": "python",
   "nbconvert_exporter": "python",
   "pygments_lexer": "ipython3",
   "version": "3.13.2"
  }
 },
 "nbformat": 4,
 "nbformat_minor": 5
}
