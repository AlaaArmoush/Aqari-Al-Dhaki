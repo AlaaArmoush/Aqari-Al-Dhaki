{
 "cells": [
  {
   "cell_type": "markdown",
   "id": "edf95af0-f636-4ddd-a8a4-681efad78df6",
   "metadata": {},
   "source": [
    "## Objective\n",
    "This notebook aims to develop a predictive model for apartment prices in Palestinian cities using the provided dataset. It covers data preparation, augmentation of underrepresented cities, and training an XGBoost regression model with cross-validation to ensure robust performance. The final model is designed to accurately estimate property prices based on features such as area, number of rooms and bathrooms, building age, and location, while providing a consistent and interpretable prediction framework."
   ]
  },
  {
   "cell_type": "code",
   "execution_count": 1,
   "id": "a55334ad-6283-4d61-beed-36cea7e4878c",
   "metadata": {},
   "outputs": [],
   "source": [
    "import pandas as pd\n",
    "import numpy as np\n",
    "import matplotlib.pyplot as plt\n",
    "import seaborn as sns\n",
    "import random\n",
    "from math import ceil\n",
    "import arabic_reshaper\n",
    "from bidi.algorithm import get_display"
   ]
  },
  {
   "cell_type": "markdown",
   "id": "3521eaea-4c59-40e9-a76c-677501ae80be",
   "metadata": {},
   "source": [
    "### Handling arabic text\n",
    "Since Matplotlib has limited support for rendering Arabic text, a reshaper function will be used to ensure proper display."
   ]
  },
  {
   "cell_type": "code",
   "execution_count": 2,
   "id": "f80cd993-19fc-42d3-920c-8dcd9bda16df",
   "metadata": {},
   "outputs": [],
   "source": [
    "def process_arabic_text(text):\n",
    "    if isinstance(text, str):\n",
    "        reshaped_text = arabic_reshaper.reshape(text)\n",
    "        return get_display(reshaped_text)\n",
    "    return text"
   ]
  },
  {
   "cell_type": "code",
   "execution_count": 3,
   "id": "d32238f3-705c-40fd-8cfe-d2d109afd12d",
   "metadata": {
    "scrolled": true
   },
   "outputs": [
    {
     "data": {
      "text/html": [
       "<div>\n",
       "<style scoped>\n",
       "    .dataframe tbody tr th:only-of-type {\n",
       "        vertical-align: middle;\n",
       "    }\n",
       "\n",
       "    .dataframe tbody tr th {\n",
       "        vertical-align: top;\n",
       "    }\n",
       "\n",
       "    .dataframe thead th {\n",
       "        text-align: right;\n",
       "    }\n",
       "</style>\n",
       "<table border=\"1\" class=\"dataframe\">\n",
       "  <thead>\n",
       "    <tr style=\"text-align: right;\">\n",
       "      <th></th>\n",
       "      <th>السعر بالشيكل</th>\n",
       "      <th>المدينة</th>\n",
       "      <th>عدد الغرف</th>\n",
       "      <th>عدد الحمامات</th>\n",
       "      <th>مفروشة</th>\n",
       "      <th>مساحة البناء</th>\n",
       "      <th>الطابق</th>\n",
       "      <th>عمر البناء</th>\n",
       "      <th>العقار مرهون</th>\n",
       "      <th>طريقة الدفع</th>\n",
       "      <th>مصعد</th>\n",
       "      <th>موقف سيارات</th>\n",
       "    </tr>\n",
       "  </thead>\n",
       "  <tbody>\n",
       "    <tr>\n",
       "      <th>0</th>\n",
       "      <td>397476</td>\n",
       "      <td>نابلس</td>\n",
       "      <td>3</td>\n",
       "      <td>2</td>\n",
       "      <td>0</td>\n",
       "      <td>138</td>\n",
       "      <td>2</td>\n",
       "      <td>2</td>\n",
       "      <td>False</td>\n",
       "      <td>0</td>\n",
       "      <td>True</td>\n",
       "      <td>True</td>\n",
       "    </tr>\n",
       "    <tr>\n",
       "      <th>1</th>\n",
       "      <td>400000</td>\n",
       "      <td>رام الله والبيرة</td>\n",
       "      <td>3</td>\n",
       "      <td>2</td>\n",
       "      <td>0</td>\n",
       "      <td>105</td>\n",
       "      <td>3</td>\n",
       "      <td>0</td>\n",
       "      <td>False</td>\n",
       "      <td>0</td>\n",
       "      <td>False</td>\n",
       "      <td>False</td>\n",
       "    </tr>\n",
       "    <tr>\n",
       "      <th>2</th>\n",
       "      <td>198738</td>\n",
       "      <td>جنين</td>\n",
       "      <td>3</td>\n",
       "      <td>2</td>\n",
       "      <td>0</td>\n",
       "      <td>165</td>\n",
       "      <td>1</td>\n",
       "      <td>1</td>\n",
       "      <td>False</td>\n",
       "      <td>2</td>\n",
       "      <td>False</td>\n",
       "      <td>False</td>\n",
       "    </tr>\n",
       "    <tr>\n",
       "      <th>3</th>\n",
       "      <td>1780608</td>\n",
       "      <td>بيت لحم</td>\n",
       "      <td>3</td>\n",
       "      <td>3</td>\n",
       "      <td>2</td>\n",
       "      <td>300</td>\n",
       "      <td>11</td>\n",
       "      <td>3</td>\n",
       "      <td>False</td>\n",
       "      <td>0</td>\n",
       "      <td>True</td>\n",
       "      <td>True</td>\n",
       "    </tr>\n",
       "    <tr>\n",
       "      <th>4</th>\n",
       "      <td>530000</td>\n",
       "      <td>رام الله والبيرة</td>\n",
       "      <td>3</td>\n",
       "      <td>3</td>\n",
       "      <td>0</td>\n",
       "      <td>185</td>\n",
       "      <td>2</td>\n",
       "      <td>3</td>\n",
       "      <td>False</td>\n",
       "      <td>0</td>\n",
       "      <td>True</td>\n",
       "      <td>True</td>\n",
       "    </tr>\n",
       "  </tbody>\n",
       "</table>\n",
       "</div>"
      ],
      "text/plain": [
       "   السعر بالشيكل           المدينة  عدد الغرف  عدد الحمامات  مفروشة  \\\n",
       "0         397476             نابلس          3             2       0   \n",
       "1         400000  رام الله والبيرة          3             2       0   \n",
       "2         198738              جنين          3             2       0   \n",
       "3        1780608           بيت لحم          3             3       2   \n",
       "4         530000  رام الله والبيرة          3             3       0   \n",
       "\n",
       "   مساحة البناء  الطابق  عمر البناء  العقار مرهون  طريقة الدفع   مصعد  \\\n",
       "0           138       2           2         False            0   True   \n",
       "1           105       3           0         False            0  False   \n",
       "2           165       1           1         False            2  False   \n",
       "3           300      11           3         False            0   True   \n",
       "4           185       2           3         False            0   True   \n",
       "\n",
       "   موقف سيارات  \n",
       "0         True  \n",
       "1        False  \n",
       "2        False  \n",
       "3         True  \n",
       "4         True  "
      ]
     },
     "execution_count": 3,
     "metadata": {},
     "output_type": "execute_result"
    }
   ],
   "source": [
    "df = pd.read_csv(\"Apts.csv\", encoding = 'utf-8-sig')\n",
    "df = df.drop(df.columns[0], axis=1)\n",
    "df.head()"
   ]
  },
  {
   "cell_type": "markdown",
   "id": "4631a650-4cf7-46ed-bc1d-46620748f8c3",
   "metadata": {},
   "source": [
    "## Data Augmentation\n",
    "To improve model generalization across cities, properties from underrepresented cities are oversampled using bootstrap sampling to reach predefined target counts. Augmentation is applied **only on the training split**, ensuring no information leakage into validation or test sets. During duplication, controlled Gaussian noise is added to continuous features like area and price, while small perturbations are applied to discrete features such as rooms, bathrooms, and building age. These augmentations create realistic diversity in the dataset while preserving the key relationships.\n"
   ]
  },
  {
   "cell_type": "code",
   "execution_count": 4,
   "id": "f7502f10-22f1-446f-9679-94446c597a1f",
   "metadata": {
    "scrolled": true
   },
   "outputs": [
    {
     "name": "stdout",
     "output_type": "stream",
     "text": [
      "\n",
      "City counts BEFORE augmentation:\n",
      "المدينة\n",
      "رام الله والبيرة    472\n",
      "نابلس               173\n",
      "بيت لحم             124\n",
      "الخليل              101\n",
      "جنين                 91\n",
      "طولكرم               89\n",
      "القدس                89\n",
      "أخرى                 16\n"
     ]
    }
   ],
   "source": [
    "before_counts = df[\"المدينة\"].value_counts().sort_values(ascending=False)\n",
    "print(\"\\nCity counts BEFORE augmentation:\")\n",
    "print(before_counts.to_string())"
   ]
  },
  {
   "cell_type": "code",
   "execution_count": 5,
   "id": "93a3c98d-ad8b-4b2e-bc79-17954cd5a32c",
   "metadata": {},
   "outputs": [],
   "source": [
    "# parameters\n",
    "price_noise_pct = 0.02        # 3% std dev relative noise for price\n",
    "area_noise_pct  = 0.02        # 3% std dev relative noise for area\n",
    "rooms_prob = 0.15             # chance to +/- 1 room for duplicated row\n",
    "baths_prob = 0.12             # chance to +/- 1 bath for duplicated row\n",
    "random_seed = 42\n",
    "\n",
    "np.random.seed(random_seed)\n",
    "random.seed(random_seed)"
   ]
  },
  {
   "cell_type": "code",
   "execution_count": 6,
   "id": "e9804c4e-b29c-4819-bb2c-3cb7d86b3a77",
   "metadata": {},
   "outputs": [],
   "source": [
    "# group cities with less than 15 rows as others\n",
    "small_cities = before_counts[before_counts < 25].index.tolist()\n",
    "df2 = df.copy()\n",
    "df2[\"المدينة\"] = df2[\"المدينة\"].apply(lambda c: \"أخرى\" if c in small_cities else c)"
   ]
  },
  {
   "cell_type": "code",
   "execution_count": 7,
   "id": "6a4c4aad-6a86-4e38-a4a4-51cc15b210d8",
   "metadata": {},
   "outputs": [
    {
     "name": "stdout",
     "output_type": "stream",
     "text": [
      "\n",
      "City counts AFTER grouping small cities into 'أخرى':\n",
      "المدينة\n",
      "رام الله والبيرة    472\n",
      "نابلس               173\n",
      "بيت لحم             124\n",
      "الخليل              101\n",
      "جنين                 91\n",
      "طولكرم               89\n",
      "القدس                89\n",
      "أخرى                 16\n"
     ]
    }
   ],
   "source": [
    "grouped_counts = df2[\"المدينة\"].value_counts().sort_values(ascending=False)\n",
    "print(\"\\nCity counts AFTER grouping small cities into 'أخرى':\")\n",
    "print(grouped_counts.to_string())\n",
    "df2.to_csv(\"Apts.csv\")"
   ]
  },
  {
   "cell_type": "code",
   "execution_count": 27,
   "id": "ef3fd204-1f6c-421e-ae15-20bce70cd909",
   "metadata": {},
   "outputs": [],
   "source": [
    "def decide_target(n):\n",
    "    if n >= 200:\n",
    "        return n\n",
    "    elif n >= 140:\n",
    "        return 200\n",
    "    elif n >= 120:\n",
    "        return 140\n",
    "    elif n >= 80:\n",
    "        return 100\n",
    "    elif n >= 40:\n",
    "        return 100\n",
    "    elif n >= 15:\n",
    "        return 60\n",
    "    else:\n",
    "        return 40\n",
    "\n",
    "def compute_city_targets(df_in):\n",
    "    grouped_counts = df_in[\"المدينة\"].value_counts()\n",
    "    city_targets = {city: decide_target(cnt) for city, cnt in grouped_counts.items()}\n",
    "    return city_targets"
   ]
  },
  {
   "cell_type": "code",
   "execution_count": 28,
   "id": "e31976e6-9b05-4be9-a927-0ae0181db8c3",
   "metadata": {},
   "outputs": [
    {
     "name": "stdout",
     "output_type": "stream",
     "text": [
      "\n",
      "Per-city augmentation targets (city : current -> target):\n",
      " رام الله والبيرة: 472 -> 472\n",
      " نابلس: 173 -> 200\n",
      " بيت لحم: 124 -> 140\n",
      " الخليل: 101 -> 100\n",
      " جنين: 91 -> 100\n",
      " طولكرم: 89 -> 100\n",
      " القدس: 89 -> 100\n",
      " أخرى: 16 -> 60\n"
     ]
    }
   ],
   "source": [
    "city_targets = {}\n",
    "for city, cnt in grouped_counts.items():\n",
    "    tgt = decide_target(cnt)\n",
    "    city_targets[city] = {\"count\": int(cnt), \"target\": int(tgt)}\n",
    "\n",
    "print(\"\\nPer-city augmentation targets (city : current -> target):\")\n",
    "for city, d in city_targets.items():\n",
    "    print(f\" {city}: {d['count']} -> {d['target']}\")"
   ]
  },
  {
   "cell_type": "code",
   "execution_count": 29,
   "id": "d2f9c193-aa91-4d6b-88ba-21e89edff4fb",
   "metadata": {
    "scrolled": true
   },
   "outputs": [],
   "source": [
    "def augment_city_data(df_in, city_targets, price_noise_pct=0.02, area_noise_pct=0.02,\n",
    "                      rooms_prob=0.15, baths_prob=0.12, seed=42):\n",
    "    np.random.seed(seed)\n",
    "    random.seed(seed)\n",
    "    rows_to_add = []\n",
    "\n",
    "    for city, target in city_targets.items():\n",
    "        source = df_in[df_in[\"المدينة\"] == city]\n",
    "        current = len(source)\n",
    "        if target <= current:\n",
    "            continue\n",
    "        deficit = target - current\n",
    "        sampled = source.sample(n=deficit, replace=True, random_state=seed)\n",
    "\n",
    "        for _, r in sampled.iterrows():\n",
    "            newr = r.copy()\n",
    "\n",
    "            # jitter area\n",
    "            try:\n",
    "                area = float(newr[\"مساحة البناء\"])\n",
    "                area_jitter = np.random.normal(loc=area, scale=abs(area)*area_noise_pct)\n",
    "                newr[\"مساحة البناء\"] = int(max(10, round(area_jitter)))\n",
    "            except Exception:\n",
    "                pass\n",
    "\n",
    "            # jitter rooms\n",
    "            try:\n",
    "                rooms = int(newr[\"عدد الغرف\"])\n",
    "                if np.random.rand() < rooms_prob:\n",
    "                    rooms += np.random.choice([-1, 1])\n",
    "                newr[\"عدد الغرف\"] = int(max(1, rooms))\n",
    "            except Exception:\n",
    "                pass\n",
    "\n",
    "            # jitter baths\n",
    "            try:\n",
    "                baths = int(newr[\"عدد الحمامات\"])\n",
    "                if np.random.rand() < baths_prob:\n",
    "                    baths += np.random.choice([-1, 1])\n",
    "                newr[\"عدد الحمامات\"] = int(max(1, baths))\n",
    "            except Exception:\n",
    "                pass\n",
    "\n",
    "            # jitter age mildly\n",
    "            try:\n",
    "                age = int(newr[\"عمر البناء\"])\n",
    "                age_j = age + np.random.choice([-1, 0, 1], p=[0.1, 0.8, 0.1])\n",
    "                newr[\"عمر البناء\"] = int(min(max(age_j, 0), 5))\n",
    "            except Exception:\n",
    "                pass\n",
    "\n",
    "            # jitter price\n",
    "            try:\n",
    "                price = float(newr[\"السعر بالشيكل\"])\n",
    "                price_j = np.random.normal(loc=price, scale=abs(price)*price_noise_pct)\n",
    "                newr[\"السعر بالشيكل\"] = int(max(1000, round(price_j)))\n",
    "            except Exception:\n",
    "                pass\n",
    "\n",
    "            rows_to_add.append(newr)\n",
    "\n",
    "    return pd.concat([df_in, pd.DataFrame(rows_to_add)], ignore_index=True)"
   ]
  },
  {
   "cell_type": "markdown",
   "id": "ef5845cd-916f-4c98-a0ef-eec247bcc8d9",
   "metadata": {},
   "source": [
    "## Modeling\n",
    "A predictive model for apartment prices is developed using XGBoost. Base parameters that perform well are specified, and hyperparameter tuning is performed using randomized search around these values. Multiple train/test splits are evaluated to identify the best-performing model, and post-prediction adjustments, such as accounting for parking, are applied. The model’s performance is visualized, and it can be used for individual price predictions."
   ]
  },
  {
   "cell_type": "markdown",
   "id": "51400519-a947-480c-aa15-132caab46c13",
   "metadata": {},
   "source": [
    "### Base Parameters and Hyperparameter Grid\n",
    "We use a set of base parameters for XGBoost that have already shown promising results in earlier experiments. These serve as a strong starting point for training. A hyperparameter grid is defined around these values, exploring ranges for the number of estimators, learning rate, maximum depth, and subsampling ratios to improve model performance through randomized search."
   ]
  },
  {
   "cell_type": "code",
   "execution_count": 30,
   "id": "2ece77f4-92eb-4490-9311-dad7a48a5a75",
   "metadata": {
    "scrolled": true
   },
   "outputs": [],
   "source": [
    "import random\n",
    "from xgboost import XGBRegressor\n",
    "from sklearn.ensemble import RandomForestRegressor\n",
    "from sklearn.model_selection import train_test_split, KFold, RandomizedSearchCV\n",
    "from sklearn.metrics import r2_score, mean_absolute_error, mean_squared_error\n",
    "from sklearn.linear_model import LinearRegression\n",
    "\n",
    "# Base params \n",
    "xgb_base_params = dict(\n",
    "    n_estimators=300,\n",
    "    learning_rate=0.03,\n",
    "    max_depth=5,\n",
    "    min_child_weight=3,\n",
    "    gamma=0.1,\n",
    "    reg_alpha=0.1,\n",
    "    reg_lambda=1.0,\n",
    "    subsample=0.8,\n",
    "    colsample_bytree=0.8,\n",
    "    max_delta_step=1,\n",
    "    tree_method=\"hist\",\n",
    "    grow_policy=\"depthwise\",\n",
    "    n_jobs=-1,\n",
    "    verbosity=0,\n",
    "    random_state=42\n",
    ")\n",
    "\n",
    "param_distributions = {\n",
    "    \"n_estimators\": [400, 500, 600],\n",
    "    \"learning_rate\": [0.03, 0.05, 0.07],\n",
    "    \"max_depth\": [4,5,6],\n",
    "    \"min_child_weight\": [1, 2, 3],\n",
    "    \"gamma\": [0, 0.05, 0.1],\n",
    "    \"reg_alpha\": [0, 0.1],\n",
    "    \"reg_lambda\": [1.0, 2.0],\n",
    "    \"subsample\": [0.8, 0.85, 0.9],\n",
    "    \"colsample_bytree\": [0.8, 0.85, 0.9],\n",
    "    \"max_delta_step\": [0],\n",
    "    \"tree_method\": [\"hist\"],\n",
    "    \"grow_policy\": [\"depthwise\"]\n",
    "}"
   ]
  },
  {
   "cell_type": "markdown",
   "id": "eb963232-4d8c-4ac3-a80c-78aa4ccd0724",
   "metadata": {},
   "source": [
    "## Data Loading and Preparation\n",
    "The dataset is loaded and separated into features and target variables. Columns not used for modeling, such as the elevator, are dropped (more on this in the [elevator feature inspection notebook](https://github.com/AlaaArmoush/Aqari-Al-Dhaki/blob/main/Elevator%20Feature%20Analysis.ipynb)), while city information is one-hot encoded. City categories and feature columns (excluding parking) are saved to ensure consistency during predictions."
   ]
  },
  {
   "cell_type": "code",
   "execution_count": 31,
   "id": "8a97ce76-3381-4b9c-9ac4-0907ae1f80fb",
   "metadata": {},
   "outputs": [],
   "source": [
    "# Load dataset\n",
    "df = pd.read_csv(\"Apts.csv\", index_col=0)\n",
    "\n",
    "# Target\n",
    "y = df['السعر بالشيكل']\n",
    "\n",
    "# Features — drop target and مصعد (elevator)\n",
    "X = df.drop(columns=['السعر بالشيكل', 'مصعد'])\n",
    "\n",
    "# One-hot encode city\n",
    "X = pd.get_dummies(X, columns=['المدينة'], drop_first=True)\n",
    "\n",
    "# Save city categories for prediction function\n",
    "city_categories = [col.replace('المدينة_', '') for col in X.columns if col.startswith('المدينة_')]\n",
    "\n",
    "# Save feature columns (exclude موقف سيارات, used post-prediction)\n",
    "feature_cols = X.drop(columns=['موقف سيارات'], errors='ignore').columns.tolist()\n"
   ]
  },
  {
   "cell_type": "code",
   "execution_count": 32,
   "id": "5e56293d-0c24-42dc-bfee-38472db65053",
   "metadata": {},
   "outputs": [],
   "source": [
    "from sklearn.model_selection import train_test_split, KFold, RandomizedSearchCV\n",
    "from sklearn.metrics import r2_score, mean_absolute_error, mean_squared_error\n",
    "from xgboost import XGBRegressor\n",
    "import numpy as np\n",
    "import pandas as pd\n",
    "\n",
    "SEED = 42\n",
    "split_sizes = [0.15, 0.2, 0.25, 0.3]\n",
    "\n",
    "results = []"
   ]
  },
  {
   "cell_type": "markdown",
   "id": "8f020b6a-815e-46ce-9636-1383ba00edef",
   "metadata": {},
   "source": [
    "## Train/Test Splitting, Data Augmentation, and Model Evaluation\n",
    "\n",
    "For each train/test split:\n",
    "\n",
    "1. **Split the dataset** into training and test sets, keeping the city column (`المدينة`) for augmentation.  \n",
    "2. **Augment the training set** per city using `augment_city_data`, adding Gaussian noise to continuous features and small perturbations to discrete features.  \n",
    "3. **Prepare features**: drop `السعر بالشيكل`, `مصعد`, and `موقف سيارات`; one-hot encode cities; align test columns to training.  \n",
    "4. **Train XGBoost with RandomizedSearchCV**, tuning hyperparameters via 10-fold CV and printing the best parameters.  \n",
    "5. **Evaluate on the test set**, apply parking adjustment if present, and compute Test R², CV R², MAE ratio, and RMSE ratio.  \n",
    "6. **Store results** for comparison across splits to select the best model.\n"
   ]
  },
  {
   "cell_type": "code",
   "execution_count": 33,
   "id": "bcbe7eb5-c940-454e-9418-e24df7db6ec0",
   "metadata": {
    "scrolled": true
   },
   "outputs": [
    {
     "name": "stdout",
     "output_type": "stream",
     "text": [
      "\n",
      "=== Evaluating split=0.85/0.15 ===\n",
      "Train size: 981, Test size: 174\n",
      "City target counts (train): {'رام الله والبيرة': 401, 'نابلس': 200, 'بيت لحم': 100, 'جنين': 100, 'الخليل': 100, 'طولكرم': 100, 'القدس': 100, 'أخرى': 40}\n",
      "Augmented training size: 1150 (before: 981)\n",
      "Starting RandomizedSearchCV...\n",
      "Fitting 10 folds for each of 10 candidates, totalling 100 fits\n",
      "Best hyperparameters found: {'tree_method': 'hist', 'subsample': 0.85, 'reg_lambda': 2.0, 'reg_alpha': 0.1, 'n_estimators': 400, 'min_child_weight': 1, 'max_depth': 6, 'max_delta_step': 0, 'learning_rate': 0.07, 'grow_policy': 'depthwise', 'gamma': 0.1, 'colsample_bytree': 0.85}\n",
      "Split summary: Test R²=0.7514, CV R²=0.7451, MAE ratio=0.1577, RMSE ratio=0.2417\n",
      "\n",
      "=== Evaluating split=0.80/0.20 ===\n",
      "Train size: 924, Test size: 231\n",
      "City target counts (train): {'رام الله والبيرة': 377, 'نابلس': 140, 'بيت لحم': 100, 'جنين': 100, 'الخليل': 100, 'القدس': 100, 'طولكرم': 100, 'أخرى': 40}\n",
      "Augmented training size: 1059 (before: 924)\n",
      "Starting RandomizedSearchCV...\n",
      "Fitting 10 folds for each of 10 candidates, totalling 100 fits\n",
      "Best hyperparameters found: {'tree_method': 'hist', 'subsample': 0.8, 'reg_lambda': 1.0, 'reg_alpha': 0.1, 'n_estimators': 400, 'min_child_weight': 1, 'max_depth': 6, 'max_delta_step': 0, 'learning_rate': 0.05, 'grow_policy': 'depthwise', 'gamma': 0.1, 'colsample_bytree': 0.9}\n",
      "Split summary: Test R²=0.7279, CV R²=0.7746, MAE ratio=0.1532, RMSE ratio=0.2581\n",
      "\n",
      "=== Evaluating split=0.75/0.25 ===\n",
      "Train size: 866, Test size: 289\n",
      "City target counts (train): {'رام الله والبيرة': 354, 'نابلس': 140, 'بيت لحم': 100, 'جنين': 100, 'الخليل': 100, 'القدس': 100, 'طولكرم': 100, 'أخرى': 40}\n",
      "Augmented training size: 1034 (before: 866)\n",
      "Starting RandomizedSearchCV...\n",
      "Fitting 10 folds for each of 10 candidates, totalling 100 fits\n",
      "Best hyperparameters found: {'tree_method': 'hist', 'subsample': 0.8, 'reg_lambda': 1.0, 'reg_alpha': 0.1, 'n_estimators': 400, 'min_child_weight': 1, 'max_depth': 6, 'max_delta_step': 0, 'learning_rate': 0.05, 'grow_policy': 'depthwise', 'gamma': 0.1, 'colsample_bytree': 0.9}\n",
      "Split summary: Test R²=0.7386, CV R²=0.7367, MAE ratio=0.1495, RMSE ratio=0.2500\n",
      "\n",
      "=== Evaluating split=0.70/0.30 ===\n",
      "Train size: 808, Test size: 347\n",
      "City target counts (train): {'رام الله والبيرة': 327, 'نابلس': 100, 'بيت لحم': 100, 'الخليل': 100, 'جنين': 100, 'القدس': 100, 'طولكرم': 100, 'أخرى': 40}\n",
      "Augmented training size: 985 (before: 808)\n",
      "Starting RandomizedSearchCV...\n",
      "Fitting 10 folds for each of 10 candidates, totalling 100 fits\n",
      "Best hyperparameters found: {'tree_method': 'hist', 'subsample': 0.85, 'reg_lambda': 2.0, 'reg_alpha': 0.1, 'n_estimators': 600, 'min_child_weight': 1, 'max_depth': 5, 'max_delta_step': 0, 'learning_rate': 0.05, 'grow_policy': 'depthwise', 'gamma': 0.05, 'colsample_bytree': 0.9}\n",
      "Split summary: Test R²=0.7663, CV R²=0.7401, MAE ratio=0.1496, RMSE ratio=0.2351\n"
     ]
    }
   ],
   "source": [
    "# Train/Test Splitting and Augmentation\n",
    "for test_size in split_sizes:\n",
    "    print(f\"\\n=== Evaluating split={1-test_size:.2f}/{test_size:.2f} ===\")\n",
    "    \n",
    "    train_df, test_df = train_test_split(\n",
    "        df, \n",
    "        test_size=test_size, \n",
    "        random_state=SEED, \n",
    "        shuffle=True\n",
    "    )\n",
    "    print(f\"Train size: {len(train_df)}, Test size: {len(test_df)}\")\n",
    "    \n",
    "    y_train = train_df['السعر بالشيكل']\n",
    "    y_test = test_df['السعر بالشيكل']\n",
    "    \n",
    "    city_targets_train = compute_city_targets(train_df)\n",
    "    print(\"City target counts (train):\", city_targets_train)\n",
    "    \n",
    "    # Augment training data\n",
    "    train_augmented = augment_city_data(\n",
    "        train_df, city_targets_train,\n",
    "        price_noise_pct, area_noise_pct,\n",
    "        rooms_prob, baths_prob, SEED\n",
    "    )\n",
    "    print(f\"Augmented training size: {len(train_augmented)} (before: {len(train_df)})\")\n",
    "    \n",
    "    # Separate features and target after augmentation\n",
    "    X_train = train_augmented.drop(columns=['السعر بالشيكل', 'مصعد', 'موقف سيارات'])\n",
    "    y_train = train_augmented['السعر بالشيكل']\n",
    "\n",
    "    X_test = test_df.drop(columns=['السعر بالشيكل', 'مصعد', 'موقف سيارات'])\n",
    "    # One-hot encode cities in train + test to keep same columns\n",
    "    X_train = pd.get_dummies(X_train, columns=['المدينة'], drop_first=True)\n",
    "    X_test = pd.get_dummies(X_test, columns=['المدينة'], drop_first=True)\n",
    "    \n",
    "    # Align test columns with train (in case some cities missing in test)\n",
    "    X_test = X_test.reindex(columns=X_train.columns, fill_value=0)\n",
    "    \n",
    "    print(\"Starting RandomizedSearchCV...\")\n",
    "    xgb = XGBRegressor(n_jobs=-1, verbosity=0, random_state=SEED)\n",
    "    kf = KFold(n_splits=10, shuffle=True, random_state=SEED)\n",
    "    \n",
    "    random_search = RandomizedSearchCV(\n",
    "        estimator=xgb,\n",
    "        param_distributions=param_distributions,\n",
    "        n_iter=10,\n",
    "        scoring='r2',\n",
    "        cv=kf,\n",
    "        verbose=1,\n",
    "        random_state=SEED,\n",
    "        n_jobs=-1\n",
    "    )\n",
    "    \n",
    "    random_search.fit(X_train, y_train)\n",
    "    \n",
    "    best_model = random_search.best_estimator_\n",
    "    print(\"Best hyperparameters found:\", random_search.best_params_)\n",
    "    \n",
    "    # Evaluation on Test Set\n",
    "        # Predict on test set\n",
    "    y_test_pred = best_model.predict(X_test)\n",
    "    \n",
    "    # Apply parking adjustment if present\n",
    "    if 'موقف سيارات' in df.columns:\n",
    "        parking_test = test_df['موقف سيارات'].astype(int)\n",
    "        y_test_pred = np.where(parking_test == 1, y_test_pred * 1.011, y_test_pred)\n",
    "    \n",
    "    # Metrics\n",
    "    test_r2 = r2_score(y_test, y_test_pred)\n",
    "    mean_y_test = y_test.mean()\n",
    "    test_mae = mean_absolute_error(y_test, y_test_pred) / mean_y_test\n",
    "    test_rmse = np.sqrt(mean_squared_error(y_test, y_test_pred)) / mean_y_test\n",
    "    cv_r2 = random_search.best_score_\n",
    "    \n",
    "    print(f\"Split summary: Test R²={test_r2:.4f}, CV R²={cv_r2:.4f}, \"\n",
    "          f\"MAE ratio={test_mae:.4f}, RMSE ratio={test_rmse:.4f}\")\n",
    "    \n",
    "    results.append({\n",
    "        \"test_size\": test_size,\n",
    "        \"cv_r2\": cv_r2,\n",
    "        \"test_r2\": test_r2,\n",
    "        \"test_mae\": test_mae,\n",
    "        \"test_mse\": mean_squared_error(y_test, y_test_pred),\n",
    "        \"test_rmse\": test_rmse,\n",
    "        \"model\": best_model,\n",
    "        \"y_test\": y_test,\n",
    "        \"y_test_pred\": y_test_pred\n",
    "    })"
   ]
  },
  {
   "cell_type": "markdown",
   "id": "a61abd05-b547-403e-92d6-c5b8e158a90b",
   "metadata": {},
   "source": [
    "## Selecting the Best Split"
   ]
  },
  {
   "cell_type": "code",
   "execution_count": 15,
   "id": "85110870-f8ab-42eb-b63c-f8f9438945b3",
   "metadata": {},
   "outputs": [
    {
     "name": "stdout",
     "output_type": "stream",
     "text": [
      "\n",
      "Selected best split: 0.85/0.15 with Test R²=0.7797 and CV R²=0.7477\n"
     ]
    }
   ],
   "source": [
    "# Select best split\n",
    "best_result = max(results, key=lambda r: r['cv_r2'])\n",
    "model = best_result['model']\n",
    "y_test_ser = best_result['y_test']\n",
    "y_test_pred = best_result['y_test_pred']\n",
    "\n",
    "print(f\"\\nSelected best split: {1-best_result['test_size']:.2f}/\"\n",
    "      f\"{best_result['test_size']:.2f} with Test R²={best_result['test_r2']:.4f} \"\n",
    "      f\"and CV R²={best_result['cv_r2']:.4f}\")\n"
   ]
  },
  {
   "cell_type": "markdown",
   "id": "cb0e4c81-1bde-4b9f-9f8f-f8ff6edec960",
   "metadata": {},
   "source": [
    "### Prediction Diagnostics\n",
    "\n",
    "We visualize how well the model predicts prices by plotting actual versus predicted values. The plot includes an ideal y=x line to see how close predictions are to the true prices, and a regression fit line to spot any systematic bias. Residuals and errors can also be examined to understand where the model over- or under-predicts.\n",
    "\n"
   ]
  },
  {
   "cell_type": "code",
   "execution_count": 16,
   "id": "3ebf0eab-00db-4d72-a370-026a40ef7eaf",
   "metadata": {
    "scrolled": true
   },
   "outputs": [
    {
     "data": {
      "image/png": "[encoded data removed]",
      "text/plain": [
       "<Figure size 800x800 with 2 Axes>"
      ]
     },
     "metadata": {},
     "output_type": "display_data"
    }
   ],
   "source": [
    "from sklearn.linear_model import LinearRegression\n",
    "from sklearn.metrics import r2_score, mean_absolute_error, mean_squared_error\n",
    "import matplotlib.pyplot as plt\n",
    "import numpy as np\n",
    "\n",
    "# Linear regression fit for visualization\n",
    "lr = LinearRegression()\n",
    "lr.fit(y_test_ser.values.reshape(-1, 1), y_test_pred)\n",
    "y_fit = lr.predict(y_test_ser.values.reshape(-1, 1))\n",
    "\n",
    "# Residuals\n",
    "residuals = y_test_pred - y_test_ser\n",
    "r2 = r2_score(y_test_ser, y_test_pred)\n",
    "\n",
    "# MAE and RMSE as ratios\n",
    "mean_y_test = y_test_ser.mean()\n",
    "mae_ratio = mean_absolute_error(y_test_ser, y_test_pred) / mean_y_test\n",
    "rmse_ratio = np.sqrt(mean_squared_error(y_test_ser, y_test_pred)) / mean_y_test\n",
    "\n",
    "plt.figure(figsize=(8, 8))\n",
    "plt.scatter(y_test_ser, y_test_pred, c=residuals / mean_y_test, cmap='coolwarm', s=50, edgecolor='k', alpha=0.7)\n",
    "\n",
    "# Ideal y=x line\n",
    "xmin, xmax = min(y_test_ser.min(), y_test_pred.min()), max(y_test_ser.max(), y_test_pred.max())\n",
    "plt.plot([xmin, xmax], [xmin, xmax], 'r--', lw=2, label='Ideal')\n",
    "\n",
    "# Regression fit line\n",
    "plt.plot(y_test_ser, y_fit, 'b-', lw=2, label='Fit')\n",
    "\n",
    "plt.xlabel(f'Actual Price {process_arabic_text(\"(شيكل)\")}')\n",
    "plt.ylabel(f'Predicted Price {process_arabic_text(\"(شيكل)\")}')\n",
    "plt.title('Predicted vs Actual Price - Best Split Model')\n",
    "plt.legend()\n",
    "plt.grid(True)\n",
    "plt.axis('equal')\n",
    "\n",
    "# Annotate metrics properly\n",
    "metrics_text = f'R² = {r2:.4f}\\nMAE = {mae_ratio:.4f}\\nRMSE = {rmse_ratio:.4f}'\n",
    "plt.text(0.05, 0.95, metrics_text,\n",
    "         transform=plt.gca().transAxes,\n",
    "         fontsize=12, verticalalignment='top')\n",
    "\n",
    "# Colorbar for residuals\n",
    "cbar = plt.colorbar()\n",
    "cbar.set_label('Residual / Mean Price')\n",
    "\n",
    "plt.show()"
   ]
  },
  {
   "cell_type": "markdown",
   "id": "fef70ebd-6a1b-46b8-9db9-58a1ad7547ab",
   "metadata": {},
   "source": [
    "### Predection Function\n",
    "A function predicts the price of a single apartment input. It aligns features with the training set, one-hot encodes city categories, and applies a  parking post predection adjustment if needed (more on this in the [parking feature analysis notebook](https://github.com/AlaaArmoush/Aqari-Al-Dhaki/blob/main/Parking%20Feature%20Analysis.ipynb)), ensuring reliable predictions for new data points using the trained model."
   ]
  },
  {
   "cell_type": "code",
   "execution_count": 17,
   "id": "c5581360-0a0d-4e40-8bb8-aa42b8df018d",
   "metadata": {},
   "outputs": [],
   "source": [
    "def predict_price(model, input_row, city_categories, feature_columns, apply_parking_adjust=True):\n",
    "    import pandas as pd\n",
    "    import numpy as np\n",
    "\n",
    "    df_input = pd.DataFrame([input_row])\n",
    "\n",
    "    # capture parking flag (safe fallback to False)\n",
    "    parking = df_input.get('موقف سيارات', pd.Series([False])).iloc[0]\n",
    "\n",
    "    # one-hot encode cities the same way training used (columns like 'المدينة_<name>')\n",
    "    for city in city_categories:\n",
    "        col_name = f'المدينة_{city}'\n",
    "        df_input[col_name] = (df_input.get('المدينة') == city).astype(int)\n",
    "\n",
    "    # drop original city column (the dummies are created)\n",
    "    if 'المدينة' in df_input.columns:\n",
    "        df_input = df_input.drop(columns=['المدينة'])\n",
    "\n",
    "    # drop parking from features if present (we don't train with it)\n",
    "    if 'موقف سيارات' in df_input.columns:\n",
    "        df_input = df_input.drop(columns=['موقف سيارات'])\n",
    "\n",
    "    # align columns to training features; fill missing with 0\n",
    "    df_input = df_input.reindex(columns=feature_columns, fill_value=0)\n",
    "\n",
    "    # predict price (model outputs original price)\n",
    "    y_pred = model.predict(df_input)[0]\n",
    "\n",
    "    # apply parking adjustment only after prediction\n",
    "    if apply_parking_adjust and parking:\n",
    "        y_pred = y_pred * 1.011\n",
    "\n",
    "    return float(y_pred)\n"
   ]
  },
  {
   "cell_type": "markdown",
   "id": "ad5cdce3-f299-4f82-9019-413355c1da8b",
   "metadata": {},
   "source": [
    "### Example Usage"
   ]
  },
  {
   "cell_type": "code",
   "execution_count": 34,
   "id": "f041e020-7eff-48b0-bd9a-c82feb6c0ce7",
   "metadata": {},
   "outputs": [
    {
     "name": "stdout",
     "output_type": "stream",
     "text": [
      "Predicted Price (شيكل): 366997.53\n"
     ]
    }
   ],
   "source": [
    "city_categories = [col.replace('المدينة_', '') for col in X.columns if col.startswith('المدينة_')]\n",
    "\n",
    "example_input = {\n",
    "    'عدد الغرف': 1,\n",
    "    'عدد الحمامات': 1,\n",
    "    'مفروشة': 1,\n",
    "    'مساحة البناء': 150,\n",
    "    'الطابق': 3,\n",
    "    'عمر البناء': 4,\n",
    "    'العقار مرهون': False,\n",
    "    'طريقة الدفع': 2,\n",
    "    'موقف سيارات': True,   # only used for post-prediction adjustment\n",
    "    'المدينة': 'نابلس'\n",
    "}\n",
    "\n",
    "# Feature columns actually used for training (exclude موقف سيارات)\n",
    "feature_cols_for_prediction = [c for c in feature_cols if c != 'موقف سيارات']\n",
    "\n",
    "predicted_price = predict_price(\n",
    "    model=model,  # best model from hyperparameter tuning / split selection\n",
    "    input_row=example_input,\n",
    "    feature_columns=feature_cols_for_prediction,\n",
    "    city_categories=city_categories,\n",
    "    apply_parking_adjust=True\n",
    ")\n",
    "\n",
    "print(f\"Predicted Price (شيكل): {predicted_price:.2f}\")\n"
   ]
  },
  {
   "cell_type": "markdown",
   "id": "d64c8a8f-0af2-4fa1-8b11-59a56843882d",
   "metadata": {},
   "source": [
    "### Save Model For Deployment"
   ]
  },
  {
   "cell_type": "code",
   "execution_count": 19,
   "id": "8b47d76d-e1c2-4a85-95ba-1f76290432a4",
   "metadata": {},
   "outputs": [
    {
     "data": {
      "text/plain": [
       "['model/city_categories.pkl']"
      ]
     },
     "execution_count": 19,
     "metadata": {},
     "output_type": "execute_result"
    }
   ],
   "source": [
    "import os\n",
    "import joblib\n",
    "\n",
    "# create folder if it doesn't exist\n",
    "os.makedirs(\"model\", exist_ok=True)\n",
    "\n",
    "# save model and metadata\n",
    "joblib.dump(model, \"model/final_model.pkl\")\n",
    "joblib.dump(feature_cols_for_prediction, \"model/feature_columns.pkl\")\n",
    "joblib.dump(city_categories, \"model/city_categories.pkl\")"
   ]
  }
 ],
 "metadata": {
  "kernelspec": {
   "display_name": "Python 3 (ipykernel)",
   "language": "python",
   "name": "python3"
  },
  "language_info": {
   "codemirror_mode": {
    "name": "ipython",
    "version": 3
   },
   "file_extension": ".py",
   "mimetype": "text/x-python",
   "name": "python",
   "nbconvert_exporter": "python",
   "pygments_lexer": "ipython3",
   "version": "3.13.2"
  }
 },
 "nbformat": 4,
 "nbformat_minor": 5
}
